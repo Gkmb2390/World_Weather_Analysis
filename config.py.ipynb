{
 "cells": [
  {
   "cell_type": "code",
   "execution_count": 1,
   "id": "2eda4dc7",
   "metadata": {},
   "outputs": [],
   "source": [
    "weather_api_key=\"WeatherAPIkey\""
   ]
  },
  {
   "cell_type": "code",
   "execution_count": 2,
   "id": "6b6ed237",
   "metadata": {},
   "outputs": [],
   "source": [
    "weather_api_key=\"d3a7c2c888f2389152932d623d7f86e6\""
   ]
  }
 ],
 "metadata": {
  "kernelspec": {
   "display_name": "PythonData",
   "language": "python",
   "name": "pythondata"
  },
  "language_info": {
   "codemirror_mode": {
    "name": "ipython",
    "version": 3
   },
   "file_extension": ".py",
   "mimetype": "text/x-python",
   "name": "python",
   "nbconvert_exporter": "python",
   "pygments_lexer": "ipython3",
   "version": "3.7.11"
  }
 },
 "nbformat": 4,
 "nbformat_minor": 5
}

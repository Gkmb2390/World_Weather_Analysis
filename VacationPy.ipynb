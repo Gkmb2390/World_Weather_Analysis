{
 "cells": [
  {
   "cell_type": "code",
   "execution_count": 1,
   "id": "1adf75ea",
   "metadata": {},
   "outputs": [],
   "source": [
    "# Import dependencies\n",
    "import pandas as pd\n",
    "import gmaps\n",
    "import requests\n",
    "#import GMaps API\n",
    "from config import g_key"
   ]
  },
  {
   "cell_type": "code",
   "execution_count": 2,
   "id": "bc1667e5",
   "metadata": {},
   "outputs": [
    {
     "data": {
      "text/html": [
       "<div>\n",
       "<style scoped>\n",
       "    .dataframe tbody tr th:only-of-type {\n",
       "        vertical-align: middle;\n",
       "    }\n",
       "\n",
       "    .dataframe tbody tr th {\n",
       "        vertical-align: top;\n",
       "    }\n",
       "\n",
       "    .dataframe thead th {\n",
       "        text-align: right;\n",
       "    }\n",
       "</style>\n",
       "<table border=\"1\" class=\"dataframe\">\n",
       "  <thead>\n",
       "    <tr style=\"text-align: right;\">\n",
       "      <th></th>\n",
       "      <th>City_ID</th>\n",
       "      <th>city</th>\n",
       "      <th>Country</th>\n",
       "      <th>Date</th>\n",
       "      <th>Lat</th>\n",
       "      <th>Long</th>\n",
       "      <th>Max Temp</th>\n",
       "      <th>Humidity</th>\n",
       "      <th>Cloudiness</th>\n",
       "      <th>Wind Speed</th>\n",
       "    </tr>\n",
       "  </thead>\n",
       "  <tbody>\n",
       "    <tr>\n",
       "      <th>0</th>\n",
       "      <td>0</td>\n",
       "      <td>Vila Velha</td>\n",
       "      <td>BR</td>\n",
       "      <td>2022-01-24 19:52:44</td>\n",
       "      <td>-20.3297</td>\n",
       "      <td>-40.2925</td>\n",
       "      <td>85.95</td>\n",
       "      <td>66</td>\n",
       "      <td>20</td>\n",
       "      <td>8.99</td>\n",
       "    </tr>\n",
       "    <tr>\n",
       "      <th>1</th>\n",
       "      <td>1</td>\n",
       "      <td>Meulaboh</td>\n",
       "      <td>ID</td>\n",
       "      <td>2022-01-24 19:57:03</td>\n",
       "      <td>4.1363</td>\n",
       "      <td>96.1285</td>\n",
       "      <td>74.95</td>\n",
       "      <td>90</td>\n",
       "      <td>68</td>\n",
       "      <td>3.96</td>\n",
       "    </tr>\n",
       "    <tr>\n",
       "      <th>2</th>\n",
       "      <td>2</td>\n",
       "      <td>Jamestown</td>\n",
       "      <td>US</td>\n",
       "      <td>2022-01-24 19:53:18</td>\n",
       "      <td>42.0970</td>\n",
       "      <td>-79.2353</td>\n",
       "      <td>21.09</td>\n",
       "      <td>62</td>\n",
       "      <td>100</td>\n",
       "      <td>7.00</td>\n",
       "    </tr>\n",
       "    <tr>\n",
       "      <th>3</th>\n",
       "      <td>3</td>\n",
       "      <td>Monduli</td>\n",
       "      <td>TZ</td>\n",
       "      <td>2022-01-24 19:57:03</td>\n",
       "      <td>-3.3000</td>\n",
       "      <td>36.4500</td>\n",
       "      <td>65.41</td>\n",
       "      <td>67</td>\n",
       "      <td>87</td>\n",
       "      <td>6.29</td>\n",
       "    </tr>\n",
       "    <tr>\n",
       "      <th>4</th>\n",
       "      <td>4</td>\n",
       "      <td>Moa</td>\n",
       "      <td>CU</td>\n",
       "      <td>2022-01-24 19:57:03</td>\n",
       "      <td>20.6569</td>\n",
       "      <td>-74.9403</td>\n",
       "      <td>77.76</td>\n",
       "      <td>74</td>\n",
       "      <td>45</td>\n",
       "      <td>9.51</td>\n",
       "    </tr>\n",
       "  </tbody>\n",
       "</table>\n",
       "</div>"
      ],
      "text/plain": [
       "   City_ID        city Country                 Date      Lat     Long  \\\n",
       "0        0  Vila Velha      BR  2022-01-24 19:52:44 -20.3297 -40.2925   \n",
       "1        1    Meulaboh      ID  2022-01-24 19:57:03   4.1363  96.1285   \n",
       "2        2   Jamestown      US  2022-01-24 19:53:18  42.0970 -79.2353   \n",
       "3        3     Monduli      TZ  2022-01-24 19:57:03  -3.3000  36.4500   \n",
       "4        4         Moa      CU  2022-01-24 19:57:03  20.6569 -74.9403   \n",
       "\n",
       "   Max Temp  Humidity  Cloudiness  Wind Speed  \n",
       "0     85.95        66          20        8.99  \n",
       "1     74.95        90          68        3.96  \n",
       "2     21.09        62         100        7.00  \n",
       "3     65.41        67          87        6.29  \n",
       "4     77.76        74          45        9.51  "
      ]
     },
     "execution_count": 2,
     "metadata": {},
     "output_type": "execute_result"
    }
   ],
   "source": [
    "# Bringing in the stored CSV\n",
    "city_data_df = pd.read_csv(\"weather_data/cities.csv\")\n",
    "city_data_df.head()"
   ]
  },
  {
   "cell_type": "code",
   "execution_count": 3,
   "id": "0a24593b",
   "metadata": {},
   "outputs": [],
   "source": [
    "# get the data types\n",
    "# city_data_df.dtypes"
   ]
  },
  {
   "cell_type": "code",
   "execution_count": 4,
   "id": "480d393c",
   "metadata": {},
   "outputs": [],
   "source": [
    "#configure the gmpas module to use API key\n",
    "gmaps.configure(api_key=g_key)"
   ]
  },
  {
   "cell_type": "markdown",
   "id": "41577446",
   "metadata": {},
   "source": [
    "# Max Temp Heatmap"
   ]
  },
  {
   "cell_type": "code",
   "execution_count": 5,
   "id": "f55be53a",
   "metadata": {},
   "outputs": [],
   "source": [
    "# #1 assign the location to an array of lat and long pairs\n",
    "# locations = [latitude, longitude]\n",
    "# #2 Assign the weights varable to some values\n",
    "# temperatures = # an array of length equal to locations\n",
    "# #3 Addign the figure variable to the gmaps.figure attribute\n",
    "# fig = gmaps.figure()\n",
    "# #4 Assign the heatmap layer varuable to the heatmap layer attribute\n",
    "# heatmap_layer = gmaps.heatmap_layer(locations,weights=temperatures)\n",
    "# #5 Add the heatmap layer\n",
    "# fig.add_layer(heatmap_layer)\n",
    "# #6 Call the figure to plot the data. \n",
    "# fig"
   ]
  },
  {
   "cell_type": "code",
   "execution_count": 8,
   "id": "29ea935f",
   "metadata": {},
   "outputs": [
    {
     "data": {
      "application/vnd.jupyter.widget-view+json": {
       "model_id": "0693d51764ff46acb22c9c2fd62b2e53",
       "version_major": 2,
       "version_minor": 0
      },
      "text/plain": [
       "Figure(layout=FigureLayout(height='420px'))"
      ]
     },
     "metadata": {},
     "output_type": "display_data"
    }
   ],
   "source": [
    "#Heatmap of Temeperature\n",
    "# Get Lat & Long\n",
    "locations = city_data_df[['Lat', 'Long']]\n",
    "# Get the maximum temperature.\n",
    "max_temp = city_data_df[\"Max Temp\"]\n",
    "temps = []\n",
    "for temp in max_temp:\n",
    "    temps.append(max(temp, 0))\n",
    "#Assign Fig varibale \n",
    "fig = gmaps.figure()\n",
    "#Assign the heatmap variable\n",
    "heat_layer = gmaps.heatmap_layer(locations, weights=temps)\n",
    "#add teh heatmap layer\n",
    "fig.add_layer(heat_layer)\n",
    "#call teh figure to the plot data\n",
    "fig"
   ]
  },
  {
   "cell_type": "code",
   "execution_count": null,
   "id": "a0aba10b",
   "metadata": {},
   "outputs": [],
   "source": []
  },
  {
   "cell_type": "code",
   "execution_count": null,
   "id": "6211810d",
   "metadata": {},
   "outputs": [],
   "source": []
  },
  {
   "cell_type": "code",
   "execution_count": null,
   "id": "4c2a5187",
   "metadata": {},
   "outputs": [],
   "source": []
  }
 ],
 "metadata": {
  "kernelspec": {
   "display_name": "PythonData",
   "language": "python",
   "name": "pythondata"
  },
  "language_info": {
   "codemirror_mode": {
    "name": "ipython",
    "version": 3
   },
   "file_extension": ".py",
   "mimetype": "text/x-python",
   "name": "python",
   "nbconvert_exporter": "python",
   "pygments_lexer": "ipython3",
   "version": "3.7.11"
  }
 },
 "nbformat": 4,
 "nbformat_minor": 5
}
